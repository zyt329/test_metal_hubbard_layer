{
 "cells": [
  {
   "cell_type": "markdown",
   "metadata": {},
   "source": [
    "## Building up Hamiltonian\n",
    "\n",
    "Hamiltonian is $H=-t_3 \\sum_{layer, s}(c_{c,s}^+c_{d,s}+c_{d,s}^+c_{c,s})-\\mu \\sum_{layer, s} n_{layer,s} - U (n_{d,+}n_{d,-}) $\n",
    "\n"
   ]
  },
  {
   "cell_type": "code",
   "execution_count": 1,
   "metadata": {},
   "outputs": [
    {
     "data": {
      "text/plain": [
       "bit_pos (generic function with 1 method)"
      ]
     },
     "execution_count": 1,
     "metadata": {},
     "output_type": "execute_result"
    }
   ],
   "source": [
    "using LinearAlgebra\n",
    "\n",
    "function coordinate(n;L::Int64=2)\n",
    "    num_sites = L^2\n",
    "    i::Int64 = Int(ceil(n/L))\n",
    "    j::Int64 = mod1(n,L)  #site i is at i-th row, j-th column\n",
    "    return (i,j)\n",
    "end\n",
    "\n",
    "function bit_pos(coordinate::Tuple{Int64,Int64};spin_num::Int64=2)\n",
    "    \"\"\"\n",
    "        input (layer#, spin), output position in the bits. \n",
    "        layer : 1,2\n",
    "        spin : 1/2 being up/down\n",
    "    \"\"\"\n",
    "    n = (coordinate[1]-1)*spin_num + coordinate[2]\n",
    "    return n\n",
    "end"
   ]
  },
  {
   "cell_type": "code",
   "execution_count": 2,
   "metadata": {},
   "outputs": [
    {
     "data": {
      "text/plain": [
       "3"
      ]
     },
     "execution_count": 2,
     "metadata": {},
     "output_type": "execute_result"
    }
   ],
   "source": [
    "bit_pos(coordinate(3))"
   ]
  },
  {
   "cell_type": "code",
   "execution_count": 3,
   "metadata": {
    "scrolled": true
   },
   "outputs": [
    {
     "data": {
      "text/plain": [
       "2"
      ]
     },
     "execution_count": 3,
     "metadata": {},
     "output_type": "execute_result"
    }
   ],
   "source": [
    "t3 = 1; U = 2\n",
    "total_layer = 2; spin_num = 2; N = total_layer*spin_num\n",
    "μ = 0; β=2"
   ]
  },
  {
   "cell_type": "code",
   "execution_count": 4,
   "metadata": {},
   "outputs": [
    {
     "data": {
      "text/plain": [
       "Eigen{Float64,Float64,Array{Float64,2},Array{Float64,1}}\n",
       "eigenvalues:\n",
       "16-element Array{Float64,1}:\n",
       " 0.0                   \n",
       " 0.0                   \n",
       " 1.1102230246251565e-15\n",
       " 3.552713678800501e-15 \n",
       " 2.0                   \n",
       " 2.0                   \n",
       " 2.0                   \n",
       " 2.0                   \n",
       " 2.0                   \n",
       " 2.0000000000000004    \n",
       " 2.000000000000001     \n",
       " 2.0000000000000013    \n",
       " 3.999999999999999     \n",
       " 4.0                   \n",
       " 4.0                   \n",
       " 4.0                   \n",
       "eigenvectors:\n",
       "16×16 Array{Float64,2}:\n",
       " 1.0   0.0          0.0       0.0  …   0.0           0.0   0.0       0.0\n",
       " 0.0   0.0          0.707107  0.0      0.0           0.0   0.0       0.0\n",
       " 0.0   0.707107     0.0       0.0      0.0           0.0   0.0       0.0\n",
       " 0.0   0.0          0.0       0.5      0.0           0.5   0.0       0.0\n",
       " 0.0   0.0          0.707107  0.0      0.0           0.0   0.0       0.0\n",
       " 0.0   0.0          0.0       0.0  …   0.0           0.0   0.0       0.0\n",
       " 0.0  -3.33067e-16  0.0       0.5      4.996e-16    -0.5   0.0       0.0\n",
       " 0.0   0.0          0.0       0.0     -0.707107      0.0   0.0       0.0\n",
       " 0.0   0.707107     0.0       0.0      0.0           0.0   0.0       0.0\n",
       " 0.0   3.33067e-16  0.0       0.5     -3.88578e-16  -0.5   0.0       0.0\n",
       " 0.0   0.0          0.0       0.0  …   0.0           0.0   0.0       0.0\n",
       " 0.0   0.0          0.0       0.0      0.0           0.0  -0.707107  0.0\n",
       " 0.0   0.0          0.0       0.5      0.0           0.5   0.0       0.0\n",
       " 0.0  -4.93038e-32  0.0       0.0      0.707107      0.0   0.0       0.0\n",
       " 0.0   0.0          0.0       0.0      0.0           0.0   0.707107  0.0\n",
       " 0.0   0.0          0.0       0.0  …   0.0           0.0   0.0       1.0"
      ]
     },
     "execution_count": 4,
     "metadata": {},
     "output_type": "execute_result"
    }
   ],
   "source": [
    "function Hamiltonian(;total_layer = 2, spin_num = 2, t3 = 1, U = 0, μ = 0, β=2)\n",
    "    H = zeros(Float64,2^N,2^N)\n",
    "    for a in 0:(2^N-1) #loop over all states\n",
    "        a_binary = digits!(zeros(Int64, 64), a, base = 2)\n",
    "        H[a+1,a+1] += -U * (a_binary[3]*a_binary[4])\n",
    "        for i in 1:N #loop over all sites in a given state\n",
    "            H[a+1,a+1] += -μ * a_binary[i]\n",
    "            neib_pos = bit_pos( (mod1(coordinate(i)[1]+1, total_layer), coordinate(i)[2]) )\n",
    "            if (a_binary[i] == 1) && (a_binary[neib_pos] == 0)\n",
    "                b = a ⊻ (1<<(i-1))\n",
    "                b = b ⊻ (1<<(neib_pos-1))\n",
    "                H[a+1,b+1] += -t3\n",
    "            end\n",
    "        end\n",
    "    end\n",
    "    return H\n",
    "end\n",
    "# println(H)\n",
    "vals,vecs=eigen(Hamiltonian(μ=-1))"
   ]
  },
  {
   "cell_type": "markdown",
   "metadata": {},
   "source": [
    "### Now takes measurement of n"
   ]
  },
  {
   "cell_type": "code",
   "execution_count": 5,
   "metadata": {
    "scrolled": true
   },
   "outputs": [
    {
     "data": {
      "text/plain": [
       "n_measure (generic function with 1 method)"
      ]
     },
     "execution_count": 5,
     "metadata": {},
     "output_type": "execute_result"
    }
   ],
   "source": [
    "function n_measure(;eig_vecs,eig_vals, N)\n",
    "    z = 0\n",
    "    for i in 1:2^N\n",
    "        E = vals[i]\n",
    "        z += exp(-β*E)\n",
    "    end\n",
    "    n = 0\n",
    "    for i in 1:2^N\n",
    "        eig_vec = eig_vecs[:,i]\n",
    "        E = eig_vals[i]\n",
    "        for basis_state in 0:(2^N-1) #loop over all states\n",
    "            basis_state_binary = digits!(zeros(Int64, 64), basis_state, base = 2)\n",
    "            n += conj(eig_vec[basis_state+1])*eig_vec[basis_state+1]*sum(basis_state_binary[1:4])*exp(-β*E)\n",
    "        end\n",
    "    end\n",
    "    n = (n / z) / N # n per spin per site\n",
    "    return n\n",
    "end"
   ]
  },
  {
   "cell_type": "markdown",
   "metadata": {},
   "source": [
    "### Now calculate n for different $\\mu$ values"
   ]
  },
  {
   "cell_type": "code",
   "execution_count": 6,
   "metadata": {},
   "outputs": [
    {
     "name": "stdout",
     "output_type": "stream",
     "text": [
      "Any[0.25899310498104505, 0.49393813929926195, 0.9905225556361604, 2.0907979966516206, 4.651128998195981, 10.935021788312117, 27.30681344939203, 72.92522182360244, 209.78019181486343, 653.570221732219, 2208.910422159742]\n"
     ]
    }
   ],
   "source": [
    "n = []\n",
    "for μ in range(-1,1,length=11)\n",
    "    total_layer = 2; spin_num = 2; N = total_layer*spin_num\n",
    "    H = Hamiltonian(μ=μ)\n",
    "    eig_vals, eig_vecs=eigen(H)\n",
    "    push!(n, n_measure(;eig_vecs=eig_vecs,eig_vals=eig_vals, N=N))\n",
    "end\n",
    "println(n)"
   ]
  },
  {
   "cell_type": "code",
   "execution_count": 3,
   "metadata": {},
   "outputs": [
    {
     "name": "stdout",
     "output_type": "stream",
     "text": [
      "Set{Int64}[Set([4, 2, 3]), Set([4, 3, 1]), Set([4, 2, 1]), Set([2, 3, 1])]\n"
     ]
    }
   ],
   "source": [
    "L=2\n",
    "function neib(n::Int64;L::Int64=2)\n",
    "    coord = coordinate(n,L=L)\n",
    "    neibs = Tuple{Int64,Int64}[]\n",
    "    push!(neibs, (mod1(coord[1]+1,L), coord[2]))\n",
    "    push!(neibs, (mod1(coord[1]-1,L), coord[2]))\n",
    "    push!(neibs, (coord[1], mod1(coord[2]+1,L)))\n",
    "    push!(neibs, (coord[1], mod1(coord[2]-1,L)))\n",
    "    push!(neibs, (mod1(coord[1]+1,L), mod1(coord[2]-1,L)))\n",
    "    push!(neibs, (mod1(coord[1]-1,L), mod1(coord[1]+1,L)))\n",
    "    push!(neibs, (mod1(coord[1]+1,L), mod1(coord[2]+1,L)))\n",
    "    push!(neibs, (mod1(coord[1]-1,L), mod1(coord[2]-1,L)))\n",
    "    #=convert coordinations to positions in bits=#\n",
    "    neibs_bit_pos = Set{Int64}()\n",
    "    for neib in neibs\n",
    "        push!(neibs_bit_pos, bit_pos(neib,L=L))\n",
    "    end\n",
    "    return neibs_bit_pos\n",
    "end\n",
    "\n",
    "neib_list = Set{Int64}[]\n",
    "for n in 1:L^2\n",
    "    push!(neib_list, neib(n, L=L))\n",
    "end\n",
    "println(neib_list)\n"
   ]
  },
  {
   "cell_type": "code",
   "execution_count": 4,
   "metadata": {},
   "outputs": [
    {
     "data": {
      "text/plain": [
       "Set([4, 2, 3])"
      ]
     },
     "execution_count": 4,
     "metadata": {},
     "output_type": "execute_result"
    }
   ],
   "source": [
    "neib(1)"
   ]
  },
  {
   "cell_type": "markdown",
   "metadata": {},
   "source": [
    "## Writing the function to flip two spins at position i and j"
   ]
  },
  {
   "cell_type": "markdown",
   "metadata": {},
   "source": [
    "## Building the Hamiltonian for Heisenberg Model\n",
    " $H=J\\sum_{i=1}^{N}(S_i^z S_{i+1}^z + 1/2(S_i^+ S_{i+1}^- + S_i^- S_{i+1}^+)) $\n"
   ]
  },
  {
   "cell_type": "code",
   "execution_count": 5,
   "metadata": {
    "scrolled": true
   },
   "outputs": [
    {
     "name": "stdout",
     "output_type": "stream",
     "text": [
      "[1.5 0.0 0.0 0.0 0.0 0.0 0.0 0.0 0.0 0.0 0.0 0.0 0.0 0.0 0.0 0.0; 0.0 0.0 0.5 0.0 0.5 0.0 0.0 0.0 0.5 0.0 0.0 0.0 0.0 0.0 0.0 0.0; 0.0 0.5 0.0 0.0 0.5 0.0 0.0 0.0 0.5 0.0 0.0 0.0 0.0 0.0 0.0 0.0; 0.0 0.0 0.0 -0.5 0.0 0.5 0.5 0.0 0.0 0.5 0.5 0.0 0.0 0.0 0.0 0.0; 0.0 0.5 0.5 0.0 0.0 0.0 0.0 0.0 0.5 0.0 0.0 0.0 0.0 0.0 0.0 0.0; 0.0 0.0 0.0 0.5 0.0 -0.5 0.5 0.0 0.0 0.5 0.0 0.0 0.5 0.0 0.0 0.0; 0.0 0.0 0.0 0.5 0.0 0.5 -0.5 0.0 0.0 0.0 0.5 0.0 0.5 0.0 0.0 0.0; 0.0 0.0 0.0 0.0 0.0 0.0 0.0 0.0 0.0 0.0 0.0 0.5 0.0 0.5 0.5 0.0; 0.0 0.5 0.5 0.0 0.5 0.0 0.0 0.0 0.0 0.0 0.0 0.0 0.0 0.0 0.0 0.0; 0.0 0.0 0.0 0.5 0.0 0.5 0.0 0.0 0.0 -0.5 0.5 0.0 0.5 0.0 0.0 0.0; 0.0 0.0 0.0 0.5 0.0 0.0 0.5 0.0 0.0 0.5 -0.5 0.0 0.5 0.0 0.0 0.0; 0.0 0.0 0.0 0.0 0.0 0.0 0.0 0.5 0.0 0.0 0.0 0.0 0.0 0.5 0.5 0.0; 0.0 0.0 0.0 0.0 0.0 0.5 0.5 0.0 0.0 0.5 0.5 0.0 -0.5 0.0 0.0 0.0; 0.0 0.0 0.0 0.0 0.0 0.0 0.0 0.5 0.0 0.0 0.0 0.5 0.0 0.0 0.5 0.0; 0.0 0.0 0.0 0.0 0.0 0.0 0.0 0.5 0.0 0.0 0.0 0.5 0.0 0.5 0.0 0.0; 0.0 0.0 0.0 0.0 0.0 0.0 0.0 0.0 0.0 0.0 0.0 0.0 0.0 0.0 0.0 1.5]\n"
     ]
    },
    {
     "data": {
      "text/plain": [
       "Eigen{Float64,Float64,Array{Float64,2},Array{Float64,1}}\n",
       "eigenvalues:\n",
       "16-element Array{Float64,1}:\n",
       " -1.5                \n",
       " -1.4999999999999973 \n",
       " -0.5                \n",
       " -0.5                \n",
       " -0.5                \n",
       " -0.4999999999999999 \n",
       " -0.4999999999999999 \n",
       " -0.4999999999999998 \n",
       " -0.49999999999999917\n",
       " -0.4999999999999982 \n",
       " -0.4999999999999982 \n",
       "  1.5                \n",
       "  1.5                \n",
       "  1.5                \n",
       "  1.5                \n",
       "  1.5000000000000004 \n",
       "eigenvectors:\n",
       "16×16 Array{Float64,2}:\n",
       "  0.0           0.0           0.0          …  1.0   0.0  0.0   0.0        \n",
       " -5.56657e-17   0.0          -0.0612173       0.0   0.0  0.0   0.5        \n",
       " -5.56657e-17   0.0          -0.0612173       0.0   0.0  0.0   0.5        \n",
       " -1.11022e-16  -0.57735       5.55112e-17     0.0   0.0  0.0  -6.16298e-33\n",
       " -5.56657e-17   0.0           0.132223        0.0   0.0  0.0   0.5        \n",
       " -0.5           0.288675     -0.696328     …  0.0   0.0  0.0   1.61908e-17\n",
       "  0.5           0.288675      0.0417741       0.0   0.0  0.0   4.39463e-17\n",
       "  3.50096e-16   3.20494e-17   0.029071        0.0  -0.5  0.0  -1.23989e-33\n",
       "  2.22045e-16   0.0          -0.00978887      0.0   0.0  0.0   0.5        \n",
       "  0.5           0.288675     -0.0417741       0.0   0.0  0.0  -2.54426e-17\n",
       " -0.5           0.288675      0.696328     …  0.0   0.0  0.0  -3.46945e-17\n",
       " -3.50096e-16   3.20494e-17  -0.029071        0.0  -0.5  0.0   1.23989e-33\n",
       "  5.01627e-32  -0.57735       3.77864e-18     0.0   0.0  0.0  -1.81387e-49\n",
       " -2.82412e-32  -6.40988e-17  -2.53556e-18     0.0  -0.5  0.0   9.04002e-50\n",
       "  0.0           0.0           0.0             0.0  -0.5  0.0   0.0        \n",
       "  0.0           0.0           0.0          …  0.0   0.0  1.0   0.0        "
      ]
     },
     "execution_count": 5,
     "metadata": {},
     "output_type": "execute_result"
    }
   ],
   "source": [
    "H = zeros(Float64,2^(L^2),2^(L^2))\n",
    "for a in 0:(2^(L^2)-1) #loop over all states\n",
    "    a_binary = digits!(zeros(Int64, 64), a, base = 2)\n",
    "    for i in 1:L^2 #loop over all sites in a given state\n",
    "        for j in neib_list[i] #loop over(compare) all neighbors of a given site\n",
    "            if a_binary[i]==a_binary[j]\n",
    "                H[a+1,a+1] += 1/4/2\n",
    "            else\n",
    "                H[a+1,a+1] -= 1/4/2\n",
    "                b = a ⊻ (1<<(i-1))\n",
    "                b = b ⊻ (1<<(j-1))\n",
    "                H[a+1,b+1] = 1/2\n",
    "            end   \n",
    "        end\n",
    "    end\n",
    "end\n",
    "println(H)\n",
    "eigen(H)"
   ]
  },
  {
   "cell_type": "markdown",
   "metadata": {},
   "source": [
    "# Now Let's Construct Hamiltonian for our problem, by changing neighbor lists"
   ]
  },
  {
   "cell_type": "markdown",
   "metadata": {},
   "source": [
    "\n",
    "The list of neighbors would be different, because of the lattice configuration."
   ]
  },
  {
   "cell_type": "code",
   "execution_count": 6,
   "metadata": {
    "scrolled": true
   },
   "outputs": [
    {
     "name": "stdout",
     "output_type": "stream",
     "text": [
      "Set{Int64}[Set([4, 13, 14, 2, 5, 8]), Set([7, 14, 13, 3, 6, 1]), Set([7, 4, 2, 16, 15, 6]), Set([3, 16, 8, 5, 15, 1]), Set([9, 4, 10, 8, 6, 1]), Set([7, 9, 10, 2, 3, 5]), Set([2, 3, 11, 8, 6, 12]), Set([7, 4, 11, 5, 12, 1]), Set([13, 10, 16, 5, 12, 6]), Set([9, 14, 11, 5, 15, 6]), Set([7, 14, 10, 8, 15, 12]), Set([7, 9, 13, 16, 11, 8]), Set([9, 14, 2, 16, 12, 1]), Set([13, 10, 2, 11, 15, 1]), Set([4, 14, 10, 3, 16, 11]), Set([4, 13, 9, 3, 15, 12])]\n"
     ]
    }
   ],
   "source": [
    "L=4\n",
    "function neib(n::Int64;L::Int64=2)\n",
    "    coord = coordinate(n,L=L)\n",
    "    neibs = Tuple{Int64,Int64}[]\n",
    "    push!(neibs, (mod1(coord[1]+1,L), coord[2]))\n",
    "    push!(neibs, (mod1(coord[1]-1,L), coord[2]))\n",
    "    push!(neibs, (coord[1], mod1(coord[2]+1,L)))\n",
    "    push!(neibs, (coord[1], mod1(coord[2]-1,L)))    \n",
    "    if iseven(coord[1]+coord[2])\n",
    "        push!(neibs, (mod1(coord[1]+1,L), mod1(coord[2]-1,L)))\n",
    "        push!(neibs, (mod1(coord[1]-1,L), mod1(coord[2]+1,L)))\n",
    "    else\n",
    "        push!(neibs, (mod1(coord[1]+1,L), mod1(coord[2]+1,L)))\n",
    "        push!(neibs, (mod1(coord[1]-1,L), mod1(coord[2]-1,L)))\n",
    "    end\n",
    "    #=convert coordinations to positions in bits=#\n",
    "    neibs_bit_pos = Set{Int64}()\n",
    "    for neib in neibs\n",
    "        push!(neibs_bit_pos, bit_pos(neib,L=L))\n",
    "    end\n",
    "    return neibs_bit_pos\n",
    "end\n",
    "\n",
    "neib_list = Set{Int64}[]\n",
    "for n in 1:L^2\n",
    "    push!(neib_list, neib(n, L=L))\n",
    "end\n",
    "println(neib_list)"
   ]
  },
  {
   "cell_type": "markdown",
   "metadata": {},
   "source": [
    "## Now construct Hamlitonian for our system\n",
    "\n",
    "Our Hamiltonian is $H=J\\sum_{i=1}^{N}\\sum_{\\sigma}(S_i^z S_{i+\\sigma}^z + h S_i^x) $\n",
    "\n",
    "equivalently, $H=J\\sum_{i=1}^{N}\\sum_{\\sigma}(S_i^z S_{i+\\sigma}^z+\\frac{h}{2}(S_i^+ + S_i^-))$\n"
   ]
  },
  {
   "cell_type": "code",
   "execution_count": 7,
   "metadata": {},
   "outputs": [
    {
     "name": "stdout",
     "output_type": "stream",
     "text": [
      "12.0\n"
     ]
    }
   ],
   "source": [
    "J=1\n",
    "h=1\n",
    "using SparseArrays\n",
    "H = spzeros(2^(L^2),2^(L^2))\n",
    "for a in 0:(2^(L^2)-1) #loop over all states\n",
    "    a_binary = digits!(zeros(Int64, 64), a, base = 2)\n",
    "    for i in 1:L^2 #loop over all sites in a given state\n",
    "        b = a ⊻ (1<<(i-1))\n",
    "        H[a+1,b+1] = 1/2h\n",
    "        for j in neib_list[i] #loop over(compare) all neighbors of a given site\n",
    "            if a_binary[i]==a_binary[j]\n",
    "                H[a+1,a+1] += 1/4J/2\n",
    "            else\n",
    "                H[a+1,a+1] -= 1/4J/2\n",
    "            end   \n",
    "        end\n",
    "    end\n",
    "end\n",
    "println(H[1,1])"
   ]
  },
  {
   "cell_type": "markdown",
   "metadata": {},
   "source": [
    "## Now Let's construct Parity States\n",
    "\n",
    "We can do a little rotation of our system and construct Hamiltonian in that \"direction\". The Hamiltonian should be:\n",
    "$H=J\\sum_{i=1}^{N}\\sum_{\\sigma}(S_i^x S_{i+\\sigma}^x - h S_i^z)$\n",
    "\n",
    "Now we have a nice Parity symmetry comes in handy. The Operator is $\\prod_i \\sigma_i^z$. The $\\sigma_i^z$ basis is exactly the eigenbasis of the parity operator. The parity operator commutes with H, thus divides the Hamiltonian into 2 block diagonal parts. With one part having even total spin, one part having odd total spin. \n",
    "\n",
    "Physically we can see this by making use of the fact that $S_i^x S_{i+\\sigma}^x$ flips 2 spins at a time. So different sectors can't mix.\n",
    "\n",
    "First we need to loop over all states, and construct a list of even and odd states."
   ]
  },
  {
   "cell_type": "code",
   "execution_count": 8,
   "metadata": {},
   "outputs": [
    {
     "data": {
      "text/plain": [
       "Dict{Symbol,Any} with 6 entries:\n",
       "  :even_state     => [0, 3, 5, 6, 9, 10, 12, 15]\n",
       "  :even_state_num => Dict(0=>1,9=>5,10=>6,3=>2,5=>3,15=>8,6=>4,12=>7)\n",
       "  :even_state_tot => 8\n",
       "  :odd_state_tot  => 8\n",
       "  :odd_state_num  => Dict(7=>4,4=>3,13=>7,14=>8,2=>2,11=>6,8=>5,1=>1)\n",
       "  :odd_state      => [1, 2, 4, 7, 8, 11, 13, 14]"
      ]
     },
     "execution_count": 8,
     "metadata": {},
     "output_type": "execute_result"
    }
   ],
   "source": [
    "function chk_parity(state::Int64)\n",
    "    state_binary = digits!(zeros(Int64, 64), state, base = 2)\n",
    "    if iseven(sum(state_binary))\n",
    "        return :even\n",
    "    else\n",
    "        return :odd\n",
    "    end\n",
    "end\n",
    "\n",
    "function parity_states_list(;L::Int64=L)\n",
    "    even_state = Int64[]\n",
    "    odd_state = Int64[]\n",
    "    even_state_num = Dict{Int64, Int64}()\n",
    "    odd_state_num = Dict{Int64, Int64}()\n",
    "    even_state_tot = 0\n",
    "    odd_state_tot = 0\n",
    "    for state in 0:(2^(L^2)-1)\n",
    "        if chk_parity(state) == :even\n",
    "            even_state_tot += 1\n",
    "            push!(even_state, state)\n",
    "            even_state_num[state] = even_state_tot\n",
    "        else\n",
    "            odd_state_tot += 1\n",
    "            push!(odd_state, state)\n",
    "            odd_state_num[state] = odd_state_tot\n",
    "        end\n",
    "    end\n",
    "    return Dict{Symbol, Any}(:even_state => even_state, :odd_state => odd_state, :even_state_num => even_state_num, :odd_state_num => odd_state_num, :even_state_tot => even_state_tot, :odd_state_tot => odd_state_tot)\n",
    "end\n",
    "\n",
    "L=2\n",
    "result = parity_states_list(L=L)"
   ]
  },
  {
   "cell_type": "markdown",
   "metadata": {},
   "source": [
    "## Now we could construct Hamiltonian for even and odd sectors"
   ]
  },
  {
   "cell_type": "code",
   "execution_count": 9,
   "metadata": {},
   "outputs": [
    {
     "ename": "KeyError",
     "evalue": "\u001b[91mKeyError: key 4097 not found\u001b[39m",
     "output_type": "error",
     "traceback": [
      "\u001b[91mKeyError: key 4097 not found\u001b[39m",
      "",
      "Stacktrace:",
      " [1] getindex(::Dict{Int64,Int64}, ::Int64) at .\\dict.jl:477",
      " [2] #H_even#8(::Int64, ::Int64, ::Int64, ::typeof(H_even)) at .\\In[9]:27",
      " [3] H_even() at .\\In[9]:13",
      " [4] top-level scope at In[9]:33"
     ]
    }
   ],
   "source": [
    "using SparseArrays\n",
    "using Arpack\n",
    "L=2\n",
    "state_gen = parity_states_list(L=L)\n",
    "even_state = state_gen[:even_state]\n",
    "even_state_num = state_gen[:even_state_num]\n",
    "odd_state_num  = state_gen[:odd_state_num]\n",
    "odd_state = state_gen[:odd_state]\n",
    "even_state_tot = state_gen[:even_state_tot]\n",
    "odd_state_tot = state_gen[:odd_state_tot]\n",
    "# even sector\n",
    "function H_even(;L::Int64=L, J=1, h=1)\n",
    "    H = zeros(even_state_tot,even_state_tot)\n",
    "    for state in even_state #loop over all states\n",
    "        state_binary = digits!(zeros(Int64, 64), state, base = 2)\n",
    "        for i in 1:L^2 #loop over all sites i in a given state\n",
    "            #diagonal terms interact with h\n",
    "            if state_binary[i] == 1\n",
    "                H[even_state_num[state],even_state_num[state]] += h/2\n",
    "            else\n",
    "                H[even_state_num[state],even_state_num[state]] -= h/2\n",
    "            end   \n",
    "            # off diagonal terms come from flipping bonds, j is neighbor of i\n",
    "            for j in neib_list[i] \n",
    "                fliped_state = state ⊻ (1<<(i-1))\n",
    "                fliped_state = fliped_state ⊻ (1<<(j-1))\n",
    "                H[even_state_num[state],even_state_num[fliped_state]] = J\n",
    "            end\n",
    "        end\n",
    "    end\n",
    "    return H\n",
    "end\n",
    "println(H_even())\n",
    "#eigen(H_even())\n",
    "\n",
    "#odd sector\n",
    "function H_odd(;L::Int64=2, J=1, h=1, neib_list, odd_state, odd_state_num, odd_state_tot)\n",
    "    H = spzeros(odd_state_tot,odd_state_tot)\n",
    "    for state in odd_state #loop over all states\n",
    "        state_binary = digits!(zeros(Int64, 64), state, base = 2)\n",
    "        for i in 1:L^2 #loop over all sites i in a given state\n",
    "            #diagonal terms interact with h\n",
    "            if state_binary[i] == 1\n",
    "                H[odd_state_num[state],odd_state_num[state]] += h/2\n",
    "            else\n",
    "                H[odd_state_num[state],odd_state_num[state]] -= h/2\n",
    "            end   \n",
    "            # off diagonal terms come from flipping bonds, j is neighbor of i\n",
    "            for j in neib_list[i] \n",
    "                fliped_state = state ⊻ (1<<(i-1))\n",
    "                fliped_state = fliped_state ⊻ (1<<(j-1))\n",
    "                H[odd_state_num[state],odd_state_num[fliped_state]] = J/4\n",
    "            end\n",
    "        end\n",
    "    end\n",
    "    return H\n",
    "end\n",
    "\n"
   ]
  },
  {
   "cell_type": "markdown",
   "metadata": {},
   "source": [
    "# Now Finally! Let's Construct Momentum States.\n",
    "\n",
    "## First we should find all reference states: Constructing a list of reference states\n",
    "\n",
    "### In order to construct a list of reference states, we first need to define the symmetry of the system, as well as the symmetry operation on the system"
   ]
  },
  {
   "cell_type": "code",
   "execution_count": 10,
   "metadata": {},
   "outputs": [
    {
     "data": {
      "text/plain": [
       "6"
      ]
     },
     "execution_count": 10,
     "metadata": {},
     "output_type": "execute_result"
    }
   ],
   "source": [
    "function pos_translation(pos::Int64, dist::Int64, direction::Symbol; L::Int64)\n",
    "    if direction == :x\n",
    "         \n",
    "    elseif direction == :y\n",
    "        \n",
    "    else\n",
    "        println(\"Direction not defined.\")\n",
    "    end\n",
    "end\n",
    "\n",
    "function translation(state::Int64; direction::Symbol, dist::Int64, L::Int64)\n",
    "    max_len = L^2\n",
    "    state_binary = digits!(zeros(Int64, 64), state, base = 2)\n",
    "    translated_state = 0\n",
    "    if direction == :x\n",
    "        for pos in 1:max_len\n",
    "            if state_binary[pos] == 1\n",
    "                #translated_pos = mod1(pos + dist, L) + Int(floor((pos-0.5)/L))*L\n",
    "                #translated_state = translated_state ⊻ (1<<(translated_pos-1))\n",
    "                pos_coord = coordinate(pos,L=L)\n",
    "                trans_pos_coord_i = pos_coord[1]\n",
    "                trans_pos_coord_j = mod1(pos_coord[2] + dist, L)\n",
    "                trans_pos = bit_pos((trans_pos_coord_i, trans_pos_coord_j), L=L)\n",
    "                translated_state = translated_state ⊻ (1<<(trans_pos-1))\n",
    "            end\n",
    "        end\n",
    "        return translated_state\n",
    "    elseif direction == :y\n",
    "        for pos in 1:max_len\n",
    "            if state_binary[pos] == 1\n",
    "                #translated_pos = Int((mod1(ceil((pos-0.5)/L) + dist, L)-1)*L + mod1(pos, L))\n",
    "                #translated_state = translated_state ⊻ (1<<(translated_pos-1))\n",
    "                pos_coord = coordinate(pos,L=L)\n",
    "                trans_pos_coord_i = mod1(pos_coord[1] + dist, L)\n",
    "                trans_pos_coord_j = pos_coord[2]\n",
    "                trans_pos = bit_pos((trans_pos_coord_i, trans_pos_coord_j), L=L)\n",
    "                translated_state = translated_state ⊻ (1<<(trans_pos-1))\n",
    "            end\n",
    "        end\n",
    "        return translated_state\n",
    "    else\n",
    "        error(\"Direction not defined.\")\n",
    "    end\n",
    "end\n",
    "translation(9, direction=:x, dist=-1; L=2)"
   ]
  },
  {
   "cell_type": "markdown",
   "metadata": {},
   "source": [
    "check routine to check whether a state s belong to a certain k subspace, as well as determining the periodicity of the state under translation of 2 different directions."
   ]
  },
  {
   "cell_type": "code",
   "execution_count": 11,
   "metadata": {},
   "outputs": [
    {
     "data": {
      "text/plain": [
       "([1, 3, 5, 7, 17, 18, 19, 20, 21, 22  …  32191, 32251, 32255, 32475, 32479, 32511, 32639, 32703, 32735, 32767], [16, 16, 8, 16, 16, 16, 16, 16, 16, 16  …  16, 16, 16, 4, 16, 16, 8, 16, 8, 16], Any[1.0 + 9.797174393178826e-16im, 1.0 + 9.797174393178826e-16im, 2.0 + 1.7145055188062944e-15im, 1.0 + 9.797174393178826e-16im, 1.0 + 9.797174393178826e-16im, 1.0 + 9.797174393178826e-16im, 1.0 + 9.797174393178826e-16im, 1.0 + 9.797174393178826e-16im, 1.0 + 9.797174393178826e-16im, 1.0 + 9.797174393178826e-16im  …  1.0 + 9.797174393178826e-16im, 1.0 + 9.797174393178826e-16im, 1.0 + 9.797174393178826e-16im, 4.0 + 2.449293598294706e-15im, 1.0 + 9.797174393178826e-16im, 1.0 + 9.797174393178826e-16im, 2.0 + 1.7145055188062944e-15im, 1.0 + 9.797174393178826e-16im, 2.0 + 1.4695761589768238e-15im, 1.0 + 9.797174393178826e-16im])"
      ]
     },
     "execution_count": 11,
     "metadata": {},
     "output_type": "execute_result"
    }
   ],
   "source": [
    "function checkstate(s::Int64; k::Real, direction::Symbol, L::Int64)\n",
    "    R = -1; t = s;\n",
    "    for i in 1:L\n",
    "        t = translation(t, direction=direction, dist=1; L=L)\n",
    "        if t < s\n",
    "            #println(\"t<s\")\n",
    "            return (false, R)\n",
    "        elseif t == s\n",
    "            R = i\n",
    "            if mod(k, L/i) != 0\n",
    "                #println(\"$(L/i)\")\n",
    "                return (false, R)\n",
    "            else\n",
    "                #println(\"should be true\")\n",
    "                return (true, R)\n",
    "            end\n",
    "        end\n",
    "    end\n",
    "end\n",
    "\n",
    "# checkstate for a 2D system, with k being a 2D Tuple (kx, ky), Turned out to be wrong\n",
    "function checkstate(s::Int64; k::Tuple, L::Int64)\n",
    "    Rx = -1; Ry = -1; t = s;\n",
    "    for i in 1:L\n",
    "        t = translation(t, direction=:x, dist=1; L=L)\n",
    "        for j in 1:L\n",
    "            t = translation(t, direction=:y, dist=1; L=L)\n",
    "            # Check if the state is the smallest integer and return periodicity Rx, Ry\n",
    "            if t < s\n",
    "                #println(\"t<s\")\n",
    "                return (false, (Rx, Ry))\n",
    "            elseif t == s\n",
    "                Rx = i; Ry = j\n",
    "                if (mod(k[1], L/i) != 0) || (mod(k[2], L/j) != 0)\n",
    "                    println(\"$(L/i)\")\n",
    "                    return (false, (Rx, Ry))\n",
    "                else\n",
    "                    #println(\"should be true\")\n",
    "                    return (true, (Rx, Ry))\n",
    "                end\n",
    "            end\n",
    "            #finished check states for one certain translation\n",
    "        end\n",
    "    end\n",
    "end\n",
    "\n",
    "#Check whether a state is ref state 2D, if it's a ref state, return number of different states Da\n",
    "function checkstate(s::Int64; k::Tuple, L::Int64, ϵ::Float64 = 10^(-10))\n",
    "    k = 2pi/L .* k\n",
    "    states = Set{Int64}() \n",
    "    push!(states, s)\n",
    "    is_ref = true\n",
    "    Fa = 0\n",
    "    t = s\n",
    "    for i in 1:L\n",
    "        t = translation(t, direction=:x, dist=1; L=L)\n",
    "        for j in 1:L\n",
    "            t = translation(t, direction=:y, dist=1; L=L)\n",
    "            push!(states, t)\n",
    "            # Check if the state is the smallest integer and return periodicity Rx, Ry\n",
    "            if t < s\n",
    "                is_ref = false                \n",
    "            end\n",
    "            if t == s\n",
    "                Fa += exp(-im*(k[1]*i + k[2]*j))\n",
    "            end\n",
    "            #finished check states for one certain translation\n",
    "        end\n",
    "    end\n",
    "    if abs(Fa) < ϵ\n",
    "       is_ref = false\n",
    "    end\n",
    "    return (is_ref, length(states), real(Fa))\n",
    "end\n",
    "\n",
    "# checkstate for a 2D system, with k being a 2D Tuple (kx, ky)\n",
    "function ref_state_gen(;k::Tuple, L::Int64)\n",
    "    ref_state = Int64[]#Set{Int64}()\n",
    "    Da = Int64[]\n",
    "    Fa = []\n",
    "    for state in 0:(2^(L^2)-1)\n",
    "        chk_state = checkstate(state, k=k, L=L)\n",
    "        if chk_state[1]\n",
    "            push!(ref_state, state)\n",
    "            push!(Da, chk_state[2])\n",
    "            push!(Fa, chk_state[3])\n",
    "        end\n",
    "    end\n",
    "    return (ref_state, Da, Fa)\n",
    "end\n",
    "-\n",
    "function k_check(state::Int64;L::Int64)\n",
    "    s\n",
    "end\n",
    "ref_state_gen(k=(2,2),L=4)"
   ]
  },
  {
   "cell_type": "code",
   "execution_count": 13,
   "metadata": {},
   "outputs": [
    {
     "data": {
      "text/plain": [
       "1"
      ]
     },
     "execution_count": 13,
     "metadata": {},
     "output_type": "execute_result"
    }
   ],
   "source": [
    "real(1+im)"
   ]
  },
  {
   "cell_type": "markdown",
   "metadata": {},
   "source": [
    "### Now we can construct a few list of reference states for different ks. Along with its periodicity. \n",
    "\n",
    "We represent a k value by an integer $n = {1, 2, ..., L_T}$ multiplying by $\\frac{2\\pi}{R}$ with $R$ being the periodicity of the state. For $R\\ne L_T$, allowed k values are $\\frac{2\\pi}{N} \\frac{N}{R} n$.So we have to choose integer from the list that is a multiple of $\\frac{N}{R}$.\n",
    "\n",
    "For a lattice that is more complicated, $L_T$ should equal to the period of the lattice on x or y direction, not neccesarily equal to the number of sites on each direction $L$. For example the square ice ising model lattice would have L equal to half the number of sites each direction, because the lattice repeats itself only twice the sites."
   ]
  },
  {
   "cell_type": "code",
   "execution_count": 19,
   "metadata": {},
   "outputs": [
    {
     "data": {
      "text/plain": [
       "momentum_state_list_gen (generic function with 1 method)"
      ]
     },
     "execution_count": 19,
     "metadata": {},
     "output_type": "execute_result"
    }
   ],
   "source": [
    "# first settle the periodicity of the lattice Lt. For a simple square lattice, Lt = L\n",
    "L = 2\n",
    "Lt = L\n",
    "# using this we could construct lists of momentum states\n",
    "function momentum_state_list_gen(;Lt::Int64 , L::Int64)\n",
    "    ref_state_tot = Array{Int64}(undef, Lt, Lt)\n",
    "    ref_state = Array{Array{Int64,1}}(undef, Lt, Lt)\n",
    "    ref_state_period = Array{Array{Tuple{Int64, Int64},1}}(undef, Lt, Lt)\n",
    "    ref_state_num = Array{Dict{Int64, Int64}}(undef, Lt, Lt)\n",
    "    for kx in 1:Lt\n",
    "        for ky in 1:Lt\n",
    "            ref_state_tot[kx, ky] = 0\n",
    "            ref_state[kx, ky] = Int64[]\n",
    "            ref_state_period[kx, ky] = Tuple{Int64, Int64}[]\n",
    "            ref_state_num[kx, ky] = Dict{Int64, Int64}()\n",
    "            for state in 0:(2^(L^2)-1)\n",
    "                chk_state = checkstate(state; k=(kx, ky), L=L)\n",
    "                if chk_state[1]\n",
    "                    ref_state_tot[kx, ky] += 1\n",
    "                    push!(ref_state[kx, ky], state)\n",
    "                    ref_state_num[kx, ky][state] = ref_state_tot[kx, ky]\n",
    "                    push!(ref_state_period[kx, ky], (chk_state[2][1], chk_state[2][2]))\n",
    "                end\n",
    "            end\n",
    "        end\n",
    "    end\n",
    "    return Dict{Symbol, Any}(:ref_state_tot => ref_state_tot, :ref_state => ref_state, :ref_state_period => ref_state_period, :ref_state_num => ref_state_num)\n",
    "end"
   ]
  },
  {
   "cell_type": "markdown",
   "metadata": {},
   "source": [
    "### For each state, build a function to find how it can be translated to a momentum state"
   ]
  },
  {
   "cell_type": "code",
   "execution_count": 18,
   "metadata": {},
   "outputs": [
    {
     "data": {
      "text/plain": [
       "Dict{Symbol,Any} with 2 entries:\n",
       "  :trans => (1, 2)\n",
       "  :ref   => 6"
      ]
     },
     "execution_count": 18,
     "metadata": {},
     "output_type": "execute_result"
    }
   ],
   "source": [
    "# return the number of translation in x and y direction in a Tuple (i, j)\n",
    "function find_ref(s::Int64; L::Int64)\n",
    "    t = s\n",
    "    ref = t\n",
    "    trans = (0,0)\n",
    "    for i in 1:L\n",
    "        t = translation(t, direction=:x, dist=1; L=L)\n",
    "        for j in 1:L\n",
    "            t = translation(t, direction=:y, dist=1; L=L)\n",
    "            if t < ref\n",
    "                ref = t\n",
    "                trans = (i, j)  \n",
    "            end\n",
    "        end\n",
    "    end\n",
    "    return Dict(:trans => trans, :ref => ref)\n",
    "end\n",
    "find_ref(9,L=2)"
   ]
  },
  {
   "cell_type": "markdown",
   "metadata": {},
   "source": [
    "### Now construct Hamiltonian for each momentum sector using the previously generated momentum states\n",
    "\n",
    "The Hamiltonian is:\n",
    "$H=\\sum_{i=1}^{N}\\sum_{\\sigma}(\\frac{J}{4}(S_i^+ + S_i^-)(S_{i+\\sigma}^+ + S_{i+\\sigma}^-) +h S_i^z)$\n",
    "\n",
    "\n",
    "We know that the K-space hamiltonian for the j-th bond among all the bonds is :\n",
    "\n",
    "$<b_j(\\vec{k})|H_j|a(\\vec{k})> = h_j(a) e^{-\\vec{l_j} \\cdot \\vec{k}} \\sqrt{\\frac{N_{b_j}}{N_a}}$\n",
    "\n",
    "So the Hamiltonian corresponding to the $|a(\\vec{k})>$ column should be the sum of all the above terms over $j$."
   ]
  },
  {
   "cell_type": "code",
   "execution_count": null,
   "metadata": {},
   "outputs": [],
   "source": [
    "@time momentum_state_list = momentum_state_list_gen(;Lt = Lt, L = L)[:ref_state]\n",
    "state_gen = parity_states_list(L=L)\n",
    "even_state = state_gen[:even_state]\n",
    "even_state_num = state_gen[:even_state_num]\n",
    "odd_state_num  = state_gen[:odd_state_num]\n",
    "odd_state = state_gen[:odd_state]\n",
    "even_state_tot = state_gen[:even_state_tot]\n",
    "odd_state_tot = state_gen[:odd_state_tot]\n",
    "# even sector\n",
    "function H_even(;L::Int64=L, J=1, h=1)\n",
    "    H = zeros(even_state_tot,even_state_tot)\n",
    "    for state in even_state #loop over all states\n",
    "        state_binary = digits!(zeros(Int64, 64), state, base = 2)\n",
    "        for i in 1:L^2 #loop over all sites i in a given state\n",
    "            #diagonal terms interact with h\n",
    "            if state_binary[i] == 1\n",
    "                H[even_state_num[state],even_state_num[state]] += h/2\n",
    "            else\n",
    "                H[even_state_num[state],even_state_num[state]] -= h/2\n",
    "            end   \n",
    "            # off diagonal terms come from flipping bonds, j is neighbor of i\n",
    "            for j in neib_list[i] \n",
    "                fliped_state = state ⊻ (1<<(i-1))\n",
    "                fliped_state = fliped_state ⊻ (1<<(j-1))\n",
    "                H[even_state_num[state],even_state_num[fliped_state]] = J\n",
    "            end\n",
    "        end\n",
    "    end\n",
    "    return H\n",
    "end\n",
    "println(H_even())"
   ]
  },
  {
   "cell_type": "code",
   "execution_count": 107,
   "metadata": {},
   "outputs": [
    {
     "name": "stdout",
     "output_type": "stream",
     "text": [
      "2\n"
     ]
    }
   ],
   "source": [
    "m = Array{Dict{Int64, Int64}}(undef, 2, 2)\n",
    "m[1,1] = Dict{Int64, Int64}()\n",
    "m[1,1][1] = 2\n",
    "println(m[1,1][1])"
   ]
  },
  {
   "cell_type": "code",
   "execution_count": 41,
   "metadata": {},
   "outputs": [
    {
     "data": {
      "text/plain": [
       "2×2 Array{Float64,2}:\n",
       " 0.0  0.0\n",
       " 0.0  0.0"
      ]
     },
     "execution_count": 41,
     "metadata": {},
     "output_type": "execute_result"
    }
   ],
   "source": [
    "zeros(Float64,2,2)"
   ]
  },
  {
   "cell_type": "code",
   "execution_count": 20,
   "metadata": {},
   "outputs": [
    {
     "data": {
      "text/plain": [
       "\"0000000000000000000000000000000000000000000000000000000000000011\""
      ]
     },
     "execution_count": 20,
     "metadata": {},
     "output_type": "execute_result"
    }
   ],
   "source": [
    "bitstring(1 ⊻ (1<<1))"
   ]
  },
  {
   "cell_type": "code",
   "execution_count": 62,
   "metadata": {},
   "outputs": [
    {
     "data": {
      "text/plain": [
       "64-element Array{Int64,1}:\n",
       " 1\n",
       " 0\n",
       " 0\n",
       " 0\n",
       " 0\n",
       " 0\n",
       " 0\n",
       " 0\n",
       " 0\n",
       " 0\n",
       " 0\n",
       " 0\n",
       " 0\n",
       " ⋮\n",
       " 0\n",
       " 0\n",
       " 0\n",
       " 0\n",
       " 0\n",
       " 0\n",
       " 0\n",
       " 0\n",
       " 0\n",
       " 0\n",
       " 0\n",
       " 0"
      ]
     },
     "execution_count": 62,
     "metadata": {},
     "output_type": "execute_result"
    }
   ],
   "source": [
    "digits!(zeros(Int64, 64), 1, base = 2)"
   ]
  },
  {
   "cell_type": "code",
   "execution_count": 8,
   "metadata": {},
   "outputs": [],
   "source": [
    "using SparseArrays"
   ]
  },
  {
   "cell_type": "code",
   "execution_count": 13,
   "metadata": {},
   "outputs": [
    {
     "name": "stdout",
     "output_type": "stream",
     "text": [
      "65536×65536 SparseMatrixCSC{Float64,Int64} with 0 stored entries\n"
     ]
    }
   ],
   "source": [
    "L=4\n",
    "A = spzeros(2^(L^2),2^(L^2))\n",
    "println(A)"
   ]
  },
  {
   "cell_type": "code",
   "execution_count": 11,
   "metadata": {},
   "outputs": [
    {
     "data": {
      "text/plain": [
       "2.0"
      ]
     },
     "execution_count": 11,
     "metadata": {},
     "output_type": "execute_result"
    }
   ],
   "source": [
    "A[1,2] =2.0"
   ]
  },
  {
   "cell_type": "code",
   "execution_count": 12,
   "metadata": {},
   "outputs": [
    {
     "name": "stdout",
     "output_type": "stream",
     "text": [
      "\n",
      "  [1, 1]  =  1.0\n",
      "  [1, 2]  =  2.0\n",
      "  [2, 2]  =  0.0\n",
      "  [3, 3]  =  1.0\n"
     ]
    }
   ],
   "source": [
    "println(A)"
   ]
  },
  {
   "cell_type": "code",
   "execution_count": 24,
   "metadata": {},
   "outputs": [
    {
     "ename": "UndefVarError",
     "evalue": "\u001b[91mUndefVarError: Pkg not defined\u001b[39m",
     "output_type": "error",
     "traceback": [
      "\u001b[91mUndefVarError: Pkg not defined\u001b[39m",
      "",
      "Stacktrace:",
      " [1] top-level scope at In[24]:1"
     ]
    }
   ],
   "source": [
    "Pkg.add(\"Arpack\")"
   ]
  },
  {
   "cell_type": "code",
   "execution_count": 1,
   "metadata": {},
   "outputs": [
    {
     "data": {
      "text/plain": [
       "16-element Array{Float64,1}:\n",
       " 0.0\n",
       " 0.0\n",
       " 0.0\n",
       " 0.0\n",
       " 0.0\n",
       " 0.0\n",
       " 0.0\n",
       " 0.0\n",
       " 0.0\n",
       " 0.0\n",
       " 0.0\n",
       " 0.0\n",
       " 0.0\n",
       " 0.0\n",
       " 0.0\n",
       " 0.0"
      ]
     },
     "execution_count": 1,
     "metadata": {},
     "output_type": "execute_result"
    }
   ],
   "source": [
    "L=2\n",
    "zeros(Float64, 2^(L^2))"
   ]
  },
  {
   "cell_type": "code",
   "execution_count": null,
   "metadata": {},
   "outputs": [],
   "source": []
  }
 ],
 "metadata": {
  "kernelspec": {
   "display_name": "Julia 1.3.1",
   "language": "julia",
   "name": "julia-1.3"
  },
  "language_info": {
   "file_extension": ".jl",
   "mimetype": "application/julia",
   "name": "julia",
   "version": "1.3.1"
  }
 },
 "nbformat": 4,
 "nbformat_minor": 4
}
