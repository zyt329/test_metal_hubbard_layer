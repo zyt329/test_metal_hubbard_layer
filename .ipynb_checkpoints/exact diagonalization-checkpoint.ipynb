{
 "cells": [
  {
   "cell_type": "markdown",
   "metadata": {},
   "source": [
    "## Building up Hamiltonian\n",
    "\n",
    "Hamiltonian is $H=-t_3 \\sum_{layer, s}(c_{c,s}^+c_{d,s}+c_{d,s}^+c_{c,s})-\\mu \\sum_{layer, s} n_{layer,s} - U (n_{d,+}n_{d,-}) $\n",
    "\n"
   ]
  },
  {
   "cell_type": "code",
   "execution_count": 16,
   "metadata": {},
   "outputs": [
    {
     "data": {
      "text/plain": [
       "bit_pos (generic function with 1 method)"
      ]
     },
     "execution_count": 16,
     "metadata": {},
     "output_type": "execute_result"
    }
   ],
   "source": [
    "using LinearAlgebra\n",
    "\n",
    "function coordinate(n;L::Int64=2)\n",
    "    num_sites = L^2\n",
    "    i::Int64 = Int(ceil(n/L))\n",
    "    j::Int64 = mod1(n,L)  #site i is at i-th row, j-th column\n",
    "    return (i,j)\n",
    "end\n",
    "\n",
    "function bit_pos(coordinate::Tuple{Int64,Int64};spin_num::Int64=2)\n",
    "    \"\"\"\n",
    "        input (layer#, spin), output position in the bits. \n",
    "        layer : 1,2\n",
    "        spin : 1/2 being up/down\n",
    "    \"\"\"\n",
    "    n = (coordinate[1]-1)*spin_num + coordinate[2]\n",
    "    return n\n",
    "end"
   ]
  },
  {
   "cell_type": "code",
   "execution_count": 17,
   "metadata": {},
   "outputs": [
    {
     "data": {
      "text/plain": [
       "3"
      ]
     },
     "execution_count": 17,
     "metadata": {},
     "output_type": "execute_result"
    }
   ],
   "source": [
    "bit_pos(coordinate(3))"
   ]
  },
  {
   "cell_type": "code",
   "execution_count": 18,
   "metadata": {
    "scrolled": true
   },
   "outputs": [
    {
     "data": {
      "text/plain": [
       "2"
      ]
     },
     "execution_count": 18,
     "metadata": {},
     "output_type": "execute_result"
    }
   ],
   "source": [
    "t3 = 1; U = 2\n",
    "total_layer = 2; spin_num = 2; N = total_layer*spin_num\n",
    "μ = 0; β=2"
   ]
  },
  {
   "cell_type": "code",
   "execution_count": 36,
   "metadata": {},
   "outputs": [
    {
     "name": "stdout",
     "output_type": "stream",
     "text": [
      "[0.0 0.0 0.0 0.0 0.0 0.0 0.0 0.0 0.0 0.0 0.0 0.0 0.0 0.0 0.0 0.0; 0.0 0.0 0.0 0.0 -1.0 0.0 0.0 0.0 0.0 0.0 0.0 0.0 0.0 0.0 0.0 0.0; 0.0 0.0 0.0 0.0 0.0 0.0 0.0 0.0 1.0 0.0 0.0 0.0 0.0 0.0 0.0 0.0; 0.0 0.0 0.0 -2.0 0.0 0.0 -1.0 0.0 0.0 1.0 0.0 0.0 0.0 0.0 0.0 0.0; 0.0 -1.0 0.0 0.0 0.0 0.0 0.0 0.0 0.0 0.0 0.0 0.0 0.0 0.0 0.0 0.0; 0.0 0.0 0.0 0.0 0.0 0.0 0.0 0.0 0.0 0.0 0.0 0.0 0.0 0.0 0.0 0.0; 0.0 0.0 0.0 -1.0 0.0 0.0 0.0 0.0 0.0 0.0 0.0 0.0 1.0 0.0 0.0 0.0; 0.0 0.0 0.0 0.0 0.0 0.0 0.0 -2.0 0.0 0.0 0.0 0.0 0.0 1.0 0.0 0.0; 0.0 0.0 1.0 0.0 0.0 0.0 0.0 0.0 0.0 0.0 0.0 0.0 0.0 0.0 0.0 0.0; 0.0 0.0 0.0 1.0 0.0 0.0 0.0 0.0 0.0 0.0 0.0 0.0 -1.0 0.0 0.0 0.0; 0.0 0.0 0.0 0.0 0.0 0.0 0.0 0.0 0.0 0.0 0.0 0.0 0.0 0.0 0.0 0.0; 0.0 0.0 0.0 0.0 0.0 0.0 0.0 0.0 0.0 0.0 0.0 -2.0 0.0 0.0 -1.0 0.0; 0.0 0.0 0.0 0.0 0.0 0.0 1.0 0.0 0.0 -1.0 0.0 0.0 -2.0 0.0 0.0 0.0; 0.0 0.0 0.0 0.0 0.0 0.0 0.0 1.0 0.0 0.0 0.0 0.0 0.0 -2.0 0.0 0.0; 0.0 0.0 0.0 0.0 0.0 0.0 0.0 0.0 0.0 0.0 0.0 -1.0 0.0 0.0 -2.0 0.0; 0.0 0.0 0.0 0.0 0.0 0.0 0.0 0.0 0.0 0.0 0.0 0.0 0.0 0.0 0.0 -4.0]\n"
     ]
    }
   ],
   "source": [
    "function Hamiltonian(;total_layer = 2, spin_num = 2, t3 = 1, U = 2, μ = 0, β=2)\n",
    "    H = zeros(Float64,2^N,2^N)\n",
    "    for a in 0:(2^N-1) #loop over all states\n",
    "        a_binary = digits!(zeros(Int64, 64), a, base = 2)\n",
    "        H[a+1,a+1] += -U * (a_binary[3]*a_binary[4])#first layer U\n",
    "        H[a+1,a+1] += -U * (a_binary[1]*a_binary[2])#second layer U\n",
    "        for i in 1:N #loop over all sites in a given state\n",
    "            H[a+1,a+1] += -μ * a_binary[i]\n",
    "            neib_pos = bit_pos( (mod1(coordinate(i)[1]+1, total_layer), coordinate(i)[2]) )\n",
    "            if (a_binary[i] == 1) && (a_binary[neib_pos] == 0)\n",
    "                b = a ⊻ (1<<(i-1))\n",
    "                b = b ⊻ (1<<(neib_pos-1))\n",
    "                if isodd(i) #takes care of the Fermionic sign\n",
    "                    H[a+1,b+1] += -t3\n",
    "                else\n",
    "                    H[a+1,b+1] += t3\n",
    "                end\n",
    "            end\n",
    "        end\n",
    "    end\n",
    "    return H\n",
    "end\n",
    "println(Hamiltonian())\n",
    "#vals,vecs=eigen(Hamiltonian(μ=-1))"
   ]
  },
  {
   "cell_type": "markdown",
   "metadata": {},
   "source": [
    "### Now takes measurement of n"
   ]
  },
  {
   "cell_type": "code",
   "execution_count": 33,
   "metadata": {
    "scrolled": true
   },
   "outputs": [
    {
     "data": {
      "text/plain": [
       "n_measure (generic function with 1 method)"
      ]
     },
     "execution_count": 33,
     "metadata": {},
     "output_type": "execute_result"
    }
   ],
   "source": [
    "function n_measure(;eig_vecs,eig_vals, N)\n",
    "    z = 0\n",
    "    for i in 1:2^N\n",
    "        E = eig_vals[i]\n",
    "        z += exp(-β*E)\n",
    "    end\n",
    "    n = 0\n",
    "    for i in 1:2^N\n",
    "        eig_vec = eig_vecs[:,i]\n",
    "        E = eig_vals[i]\n",
    "        for basis_state in 0:(2^N-1) #loop over all states\n",
    "            basis_state_binary = digits!(zeros(Int64, 64), basis_state, base = 2)\n",
    "            n += conj(eig_vec[basis_state+1])*eig_vec[basis_state+1]*sum(basis_state_binary[1:4])*exp(-β*E)\n",
    "        end\n",
    "    end\n",
    "    n = (n / z) / N # n per spin per site\n",
    "    return n\n",
    "end"
   ]
  },
  {
   "cell_type": "markdown",
   "metadata": {},
   "source": [
    "### Now calculate n for different $\\mu$ values"
   ]
  },
  {
   "cell_type": "code",
   "execution_count": 34,
   "metadata": {},
   "outputs": [
    {
     "name": "stdout",
     "output_type": "stream",
     "text": [
      "Any[0.414805845805058, 0.46522578381381086, 0.506984752286112, 0.5454494437757466, 0.5853018295535629, 0.6295458216796234, 0.6790031902546665, 0.7321090523482437, 0.7853986035137159, 0.834830501697991, 0.877300756666382]\n"
     ]
    }
   ],
   "source": [
    "n = []\n",
    "for μ in range(-1,1,length=11)\n",
    "    total_layer = 2; spin_num = 2; N = total_layer*spin_num\n",
    "    H = Hamiltonian(μ=μ, U=2)\n",
    "    eig_vals, eig_vecs=eigen(H)\n",
    "    push!(n, n_measure(;eig_vecs=eig_vecs,eig_vals=eig_vals, N=N))\n",
    "end\n",
    "println(n)"
   ]
  },
  {
   "cell_type": "code",
   "execution_count": null,
   "metadata": {},
   "outputs": [],
   "source": []
  }
 ],
 "metadata": {
  "kernelspec": {
   "display_name": "Julia 1.3.0",
   "language": "julia",
   "name": "julia-1.3"
  },
  "language_info": {
   "file_extension": ".jl",
   "mimetype": "application/julia",
   "name": "julia",
   "version": "1.3.0"
  }
 },
 "nbformat": 4,
 "nbformat_minor": 4
}
